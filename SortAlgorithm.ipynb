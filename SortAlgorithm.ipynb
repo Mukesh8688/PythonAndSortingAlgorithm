{
 "cells": [
  {
   "cell_type": "markdown",
   "metadata": {},
   "source": [
    "# Sort Algorithms \n",
    "## There are some types of sort algorthm\n",
    " - Bubble Sort\n",
    " - Selection Sort \n",
    " - Insertion Sort \n",
    " ## Advantages and Disadvantages     "
   ]
  },
  {
   "cell_type": "code",
   "execution_count": 23,
   "metadata": {},
   "outputs": [
    {
     "name": "stdout",
     "output_type": "stream",
     "text": [
      "\n",
      "Sorted array is:\n",
      "\n",
      "[1, 3, 4, 6, 8, 9]\n"
     ]
    }
   ],
   "source": [
    "# Bubble Sort Algorithm\n",
    "\n",
    "def bubbleSort(arr):\n",
    "    \n",
    "    # calculate length of array\n",
    "    n = len(arr)\n",
    "    \n",
    "    for i in range(n):\n",
    "        for j in range(i):\n",
    "            if arr[j] > arr[j+1]:\n",
    "                # swap elements\n",
    "                temp = arr[j]\n",
    "                arr[j] = arr[j+1]\n",
    "                arr[j+1] = temp\n",
    "                \n",
    "    return arr\n",
    "\n",
    "list_A = [6,3,4,1,8,9]\n",
    "\n",
    "print(\"\\nSorted array is:\\n\")\n",
    "print(bubbleSort(list_A))"
   ]
  },
  {
   "cell_type": "code",
   "execution_count": 49,
   "metadata": {},
   "outputs": [
    {
     "name": "stdout",
     "output_type": "stream",
     "text": [
      "1\n",
      "2\n",
      "3\n",
      "4\n",
      "2\n",
      "3\n",
      "4\n",
      "3\n",
      "4\n",
      "4\n"
     ]
    }
   ],
   "source": [
    "for i in range(6):\n",
    "    for j in range(i+1,5):\n",
    "            print(j) "
   ]
  },
  {
   "cell_type": "code",
   "execution_count": 45,
   "metadata": {},
   "outputs": [
    {
     "name": "stdout",
     "output_type": "stream",
     "text": [
      "6\n",
      "5\n",
      "4\n",
      "3\n",
      "2\n",
      "1\n"
     ]
    }
   ],
   "source": [
    "for i in range(6,0,-1):\n",
    "    print(i)"
   ]
  },
  {
   "cell_type": "code",
   "execution_count": 61,
   "metadata": {},
   "outputs": [
    {
     "name": "stdout",
     "output_type": "stream",
     "text": [
      "\n",
      "Sorted list A is:\n",
      "\n",
      "[1, 3, 4, 6, 8, 9]\n",
      "\n",
      "Sorted list B is:\n",
      "\n",
      "[1, 3, 4, 6, 8, 9]\n"
     ]
    }
   ],
   "source": [
    "# Bubble Sort Algorithm takes O(n2) in best case . \n",
    "# improvement of bubble sort by adding flag \n",
    "\n",
    "\n",
    "def bubbleSortImprovement(arr,flag):\n",
    "    n = len(arr)\n",
    "    for i in range(n):\n",
    "        if flag:\n",
    "            flag = False\n",
    "            for j in range(n-1):\n",
    "                if arr[j] > arr[j+1]:\n",
    "                    # swap elements\n",
    "                    temp = arr[j]\n",
    "                    arr[j] = arr[j+1]\n",
    "                    arr[j+1] = temp\n",
    "                    flag = True\n",
    "            \n",
    "        else: \n",
    "            break\n",
    "    return arr\n",
    "\n",
    "list_A = [6,3,4,1,8,9]\n",
    "\n",
    "list_B = [1,3,4,6,8,9]\n",
    "\n",
    "print(\"\\nSorted list A is:\\n\")\n",
    "print(bubbleSortImprovement(list_A,True)) \n",
    "\n",
    "print(\"\\nSorted list B is:\\n\")\n",
    "print(bubbleSortImprovement(list_B,True)) \n"
   ]
  },
  {
   "cell_type": "code",
   "execution_count": 57,
   "metadata": {},
   "outputs": [
    {
     "name": "stdout",
     "output_type": "stream",
     "text": [
      "\n",
      "Sorted array is:\n",
      "\n",
      "[1, 3, 4, 6, 8, 9]\n"
     ]
    }
   ],
   "source": [
    "# Selection Sort\n",
    "\n",
    "\n",
    "def selectionSort(arr):\n",
    "    n = len(arr)\n",
    "    \n",
    "    for i in range(n-1):\n",
    "        min  = i # set on min value\n",
    "        for j in range(i+1,n):\n",
    "            if arr[j] < arr[min]:\n",
    "                # swap index \n",
    "                min = j\n",
    "        \n",
    "        # swap elements low value in appropriate place\n",
    "        \n",
    "        temp = arr[min]\n",
    "        arr[min] = arr[i]\n",
    "        arr[i] = temp\n",
    "        \n",
    "    \n",
    "    return arr\n",
    "\n",
    "list_A = [6,3,4,1,8,9]\n",
    "\n",
    "print(\"\\nSorted array is:\\n\")\n",
    "print(selectionSort(list_A))"
   ]
  },
  {
   "cell_type": "code",
   "execution_count": 44,
   "metadata": {},
   "outputs": [
    {
     "name": "stdout",
     "output_type": "stream",
     "text": [
      "\n",
      "Sorted array is:\n",
      "\n",
      "[1, 2, 3, 4, 5, 6, 7, 8]\n"
     ]
    }
   ],
   "source": [
    "# Insertion Sort\n",
    "\n",
    "def insertionSort(arr):\n",
    "    # calculate length\n",
    "    n = len(arr)\n",
    "    \n",
    "    for i in range(1,n):\n",
    "        value = arr[i] # set first value  on variable\n",
    "        j = i\n",
    "        \n",
    "        # check every value less than i and shift if found greater value than set variable\n",
    "        while(arr[j-1] > value and j >=1):\n",
    "            arr[j] = arr[j-1]\n",
    "            j = j-1\n",
    "            \n",
    "       # insert right place     \n",
    "        arr[j] = value\n",
    "        \n",
    "    return arr\n",
    "\n",
    "list_A = [6,8,1,4,5,3,7,2]\n",
    "\n",
    "print(\"\\nSorted array is:\\n\")\n",
    "print(insertionSort(list_A))"
   ]
  },
  {
   "cell_type": "markdown",
   "metadata": {},
   "source": [
    "# Quick  Sort \n"
   ]
  },
  {
   "cell_type": "code",
   "execution_count": 28,
   "metadata": {},
   "outputs": [
    {
     "name": "stdout",
     "output_type": "stream",
     "text": [
      "Sort list by QuickSort:\n",
      " \n",
      "[-5, -1, 2, 3, 3, 6, 8, 9, 40]\n"
     ]
    }
   ],
   "source": [
    "# Quick Sort\n",
    "\n",
    "\n",
    "def quickSort(list_A,low,high):\n",
    "    \n",
    "    # terminate condition\n",
    "    if high > low :\n",
    "        pivot = partition(list_A,low,high)\n",
    "        quickSort(list_A,low,pivot-1)\n",
    "        quickSort(list_A,pivot+1,high)\n",
    "        \n",
    "        \n",
    "def partition(list_A,low,high):\n",
    "    pivot_item = list_A[low]\n",
    "    \n",
    "    left = low\n",
    "    right = high\n",
    "    while(left < right):\n",
    "        # move left when item  lower than  or equal pivot\n",
    "        while(list_A[left] <= pivot_item):\n",
    "            left += 1\n",
    "           \n",
    "        # move right while item greater than pivot\n",
    "        \n",
    "        while(list_A[right] > pivot_item):\n",
    "            right -= 1\n",
    "            \n",
    "        if left < right :\n",
    "            swap(list_A,left,right)\n",
    "            \n",
    "    \n",
    "    list_A[low] = list_A[right]\n",
    "    list_A[right] = pivot_item\n",
    "    \n",
    "    return right\n",
    "\n",
    "\n",
    "def swap(list_A,left,right):\n",
    "    temp = list_A[left]\n",
    "    list_A[left] = list_A[right]\n",
    "    list_A[right] = temp\n",
    "    \n",
    "    \n",
    "list_A = [9,3,-5,2,6,8,40,-1,3]  \n",
    "\n",
    "n = len(list_A)\n",
    "\n",
    "quickSort(list_A,0,n-1)\n",
    "\n",
    "print(\"Sort list by QuickSort:\\n \" )\n",
    "print(list_A)\n",
    "\n",
    "      "
   ]
  },
  {
   "cell_type": "code",
   "execution_count": null,
   "metadata": {},
   "outputs": [],
   "source": [
    "# quick sort 2\n",
    "\n",
    "def swap(A, i, j):\n",
    "\n",
    "    temp = A[i]\n",
    "    A[i] = A[j]\n",
    "    A[j] = temp\n",
    "\n",
    "\n",
    "# Partition using Lomuto partition scheme\n",
    "def partition(a, start, end):\n",
    "\n",
    "    # Pick rightmost element as pivot from the list\n",
    "    pivot = a[end]\n",
    "\n",
    "    # elements less than pivot will be pushed to the left of pIndex\n",
    "    # elements more than pivot will be pushed to the right of pIndex\n",
    "    # equal elements can go either way\n",
    "    pIndex = start\n",
    "\n",
    "    # each time we finds an element less than or equal to pivot,\n",
    "    # pIndex is incremented and that element would be placed\n",
    "    # before the pivot.\n",
    "    for i in range(start, end):\n",
    "        if a[i] <= pivot:\n",
    "\t\t\tswap(a, i, pIndex)\n",
    "\t\t\tpIndex = pIndex + 1\n",
    "\n",
    "\t# swap pIndex with Pivot\n",
    "\tswap(a, end, pIndex)\n",
    "\n",
    "\t# return pIndex (index of pivot element)\n",
    "\treturn pIndex\n",
    "\n",
    "\n",
    "# QuickSort routine\n",
    "def quicksort(a, start, end):\n",
    "\n",
    "\t# base condition\n",
    "\tif start >= end:\n",
    "\t\treturn\n",
    "\n",
    "\t# rearrange the elements across pivot\n",
    "\tpivot = partition(a, start, end)\n",
    "\n",
    "\t# recur on sublist containing elements less than pivot\n",
    "\tquicksort(a, start, pivot - 1)\n",
    "\n",
    "\t# recur on sublist containing elements more than pivot\n",
    "\tquicksort(a, pivot + 1, end)\n",
    "\n",
    "\n",
    "# Python implementation of quicksort algorithm\n",
    "if __name__ == '__main__':\n",
    "\n",
    "\ta = [9, -3, 5, 2, 6, 8, -6, 1, 3]\n",
    "\n",
    "\tquicksort(a, 0, len(a) - 1)\n",
    "\n",
    "\t# print the sorted list\n",
    "\tprint(a)"
   ]
  },
  {
   "cell_type": "code",
   "execution_count": null,
   "metadata": {},
   "outputs": [],
   "source": []
  },
  {
   "cell_type": "code",
   "execution_count": null,
   "metadata": {},
   "outputs": [],
   "source": []
  },
  {
   "cell_type": "code",
   "execution_count": null,
   "metadata": {},
   "outputs": [],
   "source": []
  },
  {
   "cell_type": "code",
   "execution_count": 32,
   "metadata": {},
   "outputs": [
    {
     "name": "stdout",
     "output_type": "stream",
     "text": [
      "Sort list by Merge Sort:\n",
      " \n",
      "[1, 4, 5, 3, 6, 7, 2, 8]\n"
     ]
    }
   ],
   "source": [
    "# Merge Sort\n",
    "\n",
    "def mergeSort(list_A, templist, left, right):\n",
    "    # Base case\n",
    "    if left == right:\n",
    "        return\n",
    "    \n",
    "    \n",
    "        \n",
    "    mid = (right + left) // 2   # taking integer]\n",
    "       \n",
    "        \n",
    "    mergeSort(list_A, templist, left, mid)\n",
    "    mergeSort(list_A, templist, mid+1, right)\n",
    "    merge(list_A, templist, left, mid+1, right)\n",
    "        \n",
    "        \n",
    "def merge(list_A, templist, left, mid, right):\n",
    "    \n",
    "    left_end = mid -1\n",
    "    temp_pos = left\n",
    "    size = right - left + 1\n",
    "    \n",
    "    while (left <= left_end) and (mid <= right):\n",
    "        \n",
    "        if list_A[left] <= list_A[mid]:\n",
    "            templist[temp_pos] = list_A[left]\n",
    "            temp_pos += 1\n",
    "            left += 1\n",
    "        else:\n",
    "            templist[temp_pos] = list_A[mid]\n",
    "            temp_pos += 1\n",
    "            mid += 1\n",
    "            \n",
    "    while (left <= left_end) :\n",
    "        templist[temp_pos] = list_A[left]\n",
    "        temp_pos += 1\n",
    "        left += 1\n",
    "   \n",
    "\n",
    "    while (mid <= right):\n",
    "        \n",
    "        templist[temp_pos] = list_A[mid]\n",
    "        temp_pos += 1\n",
    "        mid += 1\n",
    "        \n",
    "        \n",
    "    for i in range(0,size):\n",
    "        list_A[i] = templist[i]\n",
    "        i += 1\n",
    "        \n",
    " \n",
    "\n",
    "if __name__ == '__main__':\n",
    "\n",
    "    list_A = [6,8,1,4,5,3,7,2] \n",
    "\n",
    "    templist = list_A.copy()\n",
    "\n",
    "    n = len(list_A)\n",
    "\n",
    "    mergeSort(list_A,templist,0,n-1)\n",
    "\n",
    "    print(\"Sort list by Merge Sort:\\n \" )\n",
    "    print(list_A)"
   ]
  },
  {
   "cell_type": "code",
   "execution_count": 15,
   "metadata": {},
   "outputs": [],
   "source": [
    "list_A = [6,8,1,4,5,3,7,2] \n",
    "\n",
    "templist = [0,0,0,0,0,0,0,0]"
   ]
  },
  {
   "cell_type": "code",
   "execution_count": 16,
   "metadata": {},
   "outputs": [],
   "source": [
    "templist[0] = list_A[0]"
   ]
  },
  {
   "cell_type": "code",
   "execution_count": 17,
   "metadata": {},
   "outputs": [
    {
     "data": {
      "text/plain": [
       "[6, 0, 0, 0, 0, 0, 0, 0]"
      ]
     },
     "execution_count": 17,
     "metadata": {},
     "output_type": "execute_result"
    }
   ],
   "source": [
    "templist"
   ]
  },
  {
   "cell_type": "code",
   "execution_count": 36,
   "metadata": {},
   "outputs": [
    {
     "name": "stdout",
     "output_type": "stream",
     "text": [
      "[-2, 0, 3, 5, 12, 18, 24]\n"
     ]
    }
   ],
   "source": [
    "# Merge two sorted sub-lists A[low .. mid] and A[mid + 1 .. high]\n",
    "def merge(A, aux, low, mid, high):\n",
    "\n",
    "    k = low\n",
    "    i = low\n",
    "    j = mid + 1\n",
    "\n",
    "    # While there are elements in the left and right runs\n",
    "    while i <= mid and j <= high:\n",
    "\n",
    "        if A[i] <= A[j]:\n",
    "            aux[k] = A[i]\n",
    "            k = k + 1\n",
    "            i = i + 1\n",
    "        else:\n",
    "            aux[k] = A[j]\n",
    "            k = k + 1\n",
    "            j = j + 1\n",
    "\n",
    "    # Copy remaining elements\n",
    "    while i <= mid:\n",
    "        aux[k] = A[i]\n",
    "        k = k + 1\n",
    "        i = i + 1\n",
    "\n",
    "    # No need to copy the second half\n",
    "\n",
    "    # copy back to the original list to reflect sorted order\n",
    "    for i in range(low, high + 1):\n",
    "        A[i] = aux[i]\n",
    "\n",
    "\n",
    "# Sort list A [low..high] using auxiliary list aux\n",
    "def mergeSort(A, aux, low, high):\n",
    "\n",
    "    # Base case\n",
    "    if high == low:\t # if run size == 1\n",
    "        return\n",
    "\n",
    "    # find mid point\n",
    "    mid = (low + ((high - low) >> 1))\n",
    "\n",
    "    # recursively split runs into two halves until run size == 1,\n",
    "    # then merge them and return back up the call chain\n",
    "\n",
    "    mergeSort(A, aux, low, mid)\t\t # split / merge left  half\n",
    "    mergeSort(A, aux, mid + 1, high)\t# split / merge right half\n",
    "\n",
    "    merge(A, aux, low, mid, high)\t   # merge the two half runs\n",
    "\n",
    "\n",
    "# Function to check if A is sorted in ascending order or not\n",
    "def isSorted(A):\n",
    "\n",
    "    prev = A[0]\n",
    "    for i in range(1, len(A)):\n",
    "        if prev > A[i]:\n",
    "            print(\"MergeSort Fails!!\")\n",
    "            return False\n",
    "\n",
    "        prev = A[i]\n",
    "\n",
    "    return True\n",
    "\n",
    "\n",
    "# Implementation of Merge Sort Algorithm in Python\n",
    "if __name__ == '__main__':\n",
    "\n",
    "    A = [12, 3, 18, 24, 0, 5, -2]\n",
    "    aux = A.copy()\n",
    "\n",
    "    # sort list 'A' using auxiliary list 'aux'\n",
    "    mergeSort(A, aux, 0, len(A) - 1)\n",
    "\n",
    "    if isSorted(A):\n",
    "        print(A)"
   ]
  },
  {
   "cell_type": "code",
   "execution_count": 38,
   "metadata": {},
   "outputs": [
    {
     "name": "stdout",
     "output_type": "stream",
     "text": [
      "Given array is\n",
      "12 11 13 5 6 7 \n",
      "Sorted array is: \n",
      "7 7 7 13 13 13 \n"
     ]
    }
   ],
   "source": [
    "# merge sort with different way\n",
    "\n",
    "#Python program for implementation of MergeSort \n",
    "def mergeSort(arr): \n",
    "    if len(arr) >1: \n",
    "        mid = len(arr)//2 # Finding the mid of the array \n",
    "        L = arr[:mid] # Dividing the array elements  \n",
    "        R = arr[mid:] # into 2 halves \n",
    "  \n",
    "        mergeSort(L) # Sorting the first half \n",
    "        mergeSort(R) # Sorting the second half \n",
    "  \n",
    "        i = j = k = 0\n",
    "          \n",
    "        # Copy data to temp arrays L[] and R[] \n",
    "        while i < len(L) and j < len(R): \n",
    "            if L[i] < R[j]: \n",
    "                arr[k] = L[i] \n",
    "                i+= 1\n",
    "            else: \n",
    "                arr[k] = R[j] \n",
    "                j+= 1\n",
    "                k+= 1\n",
    "          \n",
    "        # Checking if any element was left \n",
    "        while i < len(L): \n",
    "            arr[k] = L[i] \n",
    "            i+= 1\n",
    "            k+= 1\n",
    "          \n",
    "        while j < len(R): \n",
    "            arr[k] = R[j] \n",
    "            j+= 1\n",
    "            k+= 1\n",
    "  \n",
    "# Code to print the list \n",
    "def printList(arr): \n",
    "    for i in range(len(arr)):         \n",
    "        print(arr[i], end =\" \") \n",
    "    print() \n",
    "  \n",
    "# driver code to test the above code \n",
    "if __name__ == '__main__': \n",
    "    arr = [12, 11, 13, 5, 6, 7]  \n",
    "    print (\"Given array is\", end =\"\\n\")  \n",
    "    printList(arr) \n",
    "    mergeSort(arr) \n",
    "    print(\"Sorted array is: \", end =\"\\n\") \n",
    "    printList(arr) \n",
    "  \n"
   ]
  },
  {
   "cell_type": "code",
   "execution_count": null,
   "metadata": {},
   "outputs": [],
   "source": []
  }
 ],
 "metadata": {
  "kernelspec": {
   "display_name": "Python 3",
   "language": "python",
   "name": "python3"
  },
  "language_info": {
   "codemirror_mode": {
    "name": "ipython",
    "version": 3
   },
   "file_extension": ".py",
   "mimetype": "text/x-python",
   "name": "python",
   "nbconvert_exporter": "python",
   "pygments_lexer": "ipython3",
   "version": "3.7.4"
  }
 },
 "nbformat": 4,
 "nbformat_minor": 4
}

{
 "cells": [
  {
   "cell_type": "markdown",
   "metadata": {},
   "source": [
    "# Sort Algorithms \n",
    "## There are some types of sort algorthm\n",
    " - Bubble Sort\n",
    " - Selection Sort \n",
    " - Insertion Sort \n",
    " ## Advantages and Disadvantages     "
   ]
  },
  {
   "cell_type": "code",
   "execution_count": 23,
   "metadata": {},
   "outputs": [
    {
     "name": "stdout",
     "output_type": "stream",
     "text": [
      "\n",
      "Sorted array is:\n",
      "\n",
      "[1, 3, 4, 6, 8, 9]\n"
     ]
    }
   ],
   "source": [
    "# Bubble Sort Algorithm\n",
    "\n",
    "def bubbleSort(arr):\n",
    "    \n",
    "    # calculate length of array\n",
    "    n = len(arr)\n",
    "    \n",
    "    for i in range(n):\n",
    "        for j in range(i):\n",
    "            if arr[j] > arr[j+1]:\n",
    "                # swap elements\n",
    "                temp = arr[j]\n",
    "                arr[j] = arr[j+1]\n",
    "                arr[j+1] = temp\n",
    "                \n",
    "    return arr\n",
    "\n",
    "list_A = [6,3,4,1,8,9]\n",
    "\n",
    "print(\"\\nSorted array is:\\n\")\n",
    "print(bubbleSort(list_A))"
   ]
  },
  {
   "cell_type": "code",
   "execution_count": 49,
   "metadata": {},
   "outputs": [
    {
     "name": "stdout",
     "output_type": "stream",
     "text": [
      "1\n",
      "2\n",
      "3\n",
      "4\n",
      "2\n",
      "3\n",
      "4\n",
      "3\n",
      "4\n",
      "4\n"
     ]
    }
   ],
   "source": [
    "for i in range(6):\n",
    "    for j in range(i+1,5):\n",
    "            print(j) "
   ]
  },
  {
   "cell_type": "code",
   "execution_count": 45,
   "metadata": {},
   "outputs": [
    {
     "name": "stdout",
     "output_type": "stream",
     "text": [
      "6\n",
      "5\n",
      "4\n",
      "3\n",
      "2\n",
      "1\n"
     ]
    }
   ],
   "source": [
    "for i in range(6,0,-1):\n",
    "    print(i)"
   ]
  },
  {
   "cell_type": "code",
   "execution_count": 61,
   "metadata": {},
   "outputs": [
    {
     "name": "stdout",
     "output_type": "stream",
     "text": [
      "\n",
      "Sorted list A is:\n",
      "\n",
      "[1, 3, 4, 6, 8, 9]\n",
      "\n",
      "Sorted list B is:\n",
      "\n",
      "[1, 3, 4, 6, 8, 9]\n"
     ]
    }
   ],
   "source": [
    "# Bubble Sort Algorithm takes O(n2) in best case . \n",
    "# improvement of bubble sort by adding flag \n",
    "\n",
    "\n",
    "def bubbleSortImprovement(arr,flag):\n",
    "    n = len(arr)\n",
    "    for i in range(n):\n",
    "        if flag:\n",
    "            flag = False\n",
    "            for j in range(n-1):\n",
    "                if arr[j] > arr[j+1]:\n",
    "                    # swap elements\n",
    "                    temp = arr[j]\n",
    "                    arr[j] = arr[j+1]\n",
    "                    arr[j+1] = temp\n",
    "                    flag = True\n",
    "            \n",
    "        else: \n",
    "            break\n",
    "    return arr\n",
    "\n",
    "list_A = [6,3,4,1,8,9]\n",
    "\n",
    "list_B = [1,3,4,6,8,9]\n",
    "\n",
    "print(\"\\nSorted list A is:\\n\")\n",
    "print(bubbleSortImprovement(list_A,True)) \n",
    "\n",
    "print(\"\\nSorted list B is:\\n\")\n",
    "print(bubbleSortImprovement(list_B,True)) \n"
   ]
  },
  {
   "cell_type": "code",
   "execution_count": 57,
   "metadata": {},
   "outputs": [
    {
     "name": "stdout",
     "output_type": "stream",
     "text": [
      "\n",
      "Sorted array is:\n",
      "\n",
      "[1, 3, 4, 6, 8, 9]\n"
     ]
    }
   ],
   "source": [
    "# Selection Sort\n",
    "\n",
    "\n",
    "def selectionSort(arr):\n",
    "    n = len(arr)\n",
    "    \n",
    "    for i in range(n-1):\n",
    "        min  = i # set on min value\n",
    "        for j in range(i+1,n):\n",
    "            if arr[j] < arr[min]:\n",
    "                # swap index \n",
    "                min = j\n",
    "        \n",
    "        # swap elements low value in appropriate place\n",
    "        \n",
    "        temp = arr[min]\n",
    "        arr[min] = arr[i]\n",
    "        arr[i] = temp\n",
    "        \n",
    "    \n",
    "    return arr\n",
    "\n",
    "list_A = [6,3,4,1,8,9]\n",
    "\n",
    "print(\"\\nSorted array is:\\n\")\n",
    "print(selectionSort(list_A))"
   ]
  },
  {
   "cell_type": "code",
   "execution_count": 44,
   "metadata": {},
   "outputs": [
    {
     "name": "stdout",
     "output_type": "stream",
     "text": [
      "\n",
      "Sorted array is:\n",
      "\n",
      "[1, 2, 3, 4, 5, 6, 7, 8]\n"
     ]
    }
   ],
   "source": [
    "# Insertion Sort\n",
    "\n",
    "def insertionSort(arr):\n",
    "    # calculate length\n",
    "    n = len(arr)\n",
    "    \n",
    "    for i in range(1,n):\n",
    "        value = arr[i] # set first value  on variable\n",
    "        j = i\n",
    "        \n",
    "        # check every value less than i and shift if found greater value than set variable\n",
    "        while(arr[j-1] > value and j >=1):\n",
    "            arr[j] = arr[j-1]\n",
    "            j = j-1\n",
    "            \n",
    "       # insert right place     \n",
    "        arr[j] = value\n",
    "        \n",
    "    return arr\n",
    "\n",
    "list_A = [6,8,1,4,5,3,7,2]\n",
    "\n",
    "print(\"\\nSorted array is:\\n\")\n",
    "print(insertionSort(list_A))"
   ]
  },
  {
   "cell_type": "code",
   "execution_count": null,
   "metadata": {},
   "outputs": [],
   "source": []
  }
 ],
 "metadata": {
  "kernelspec": {
   "display_name": "Python 3",
   "language": "python",
   "name": "python3"
  },
  "language_info": {
   "codemirror_mode": {
    "name": "ipython",
    "version": 3
   },
   "file_extension": ".py",
   "mimetype": "text/x-python",
   "name": "python",
   "nbconvert_exporter": "python",
   "pygments_lexer": "ipython3",
   "version": "3.7.4"
  }
 },
 "nbformat": 4,
 "nbformat_minor": 4
}
